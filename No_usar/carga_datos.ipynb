{
 "cells": [
  {
   "cell_type": "code",
   "execution_count": 1,
   "id": "a265c359",
   "metadata": {},
   "outputs": [
    {
     "data": {
      "text/plain": [
       "(['AlexanderZverev',\n",
       "  'AndreyRublev',\n",
       "  'CarlosAlcaraz',\n",
       "  'CasperRuud',\n",
       "  'DaniilMedvedev',\n",
       "  'HolgerRune',\n",
       "  'HubertHurkacz',\n",
       "  'JannikSinner',\n",
       "  'NovakDjokovic',\n",
       "  'StefanosTsitsipas'],\n",
       "           Date            Tournament Surface   Rd   Rk   vRk  \\\n",
       " 0   6‑Apr‑2025           Monte-Carlo    Clay  R32  2.0  34.0   \n",
       " 1  19‑Mar‑2025         Miami Masters    Hard  R16  2.0  18.0   \n",
       " 2  19‑Mar‑2025         Miami Masters    Hard  R32  2.0  37.0   \n",
       " 3  19‑Mar‑2025         Miami Masters    Hard  R64  2.0  83.0   \n",
       " 4   5‑Mar‑2025  Indian Wells Masters    Hard  R64  2.0  43.0   \n",
       " \n",
       "                                match              Score    DR     A%  ...  \\\n",
       " 0  Matteo Berrettini[ITA]d.(1)Zverev        2-6 6-3 7-5  0.98   7.1%  ...   \n",
       " 1    (17)Arthur Fils[FRA]d.(1)Zverev        3-6 6-3 6-4  0.91  11.3%  ...   \n",
       " 2    (1)Zverevd.Jordan Thompson[AUS]            7-5 6-4  1.55  10.9%  ...   \n",
       " 3  (1)Zverevd.(Q)Jacob Fearnley[GBR]            6-2 6-4  1.96  16.3%  ...   \n",
       " 4  Tallon Griekspoor[NED]d.(1)Zverev  4-6 7-6(5) 7-6(4)  1.10   5.7%  ...   \n",
       " \n",
       "    Time    TPW    RPW    vA%  v1st%  v2nd% BPCnv     TP     SP W_or_L  \n",
       " 0  2:28  49.4%  35.6%   4.6%  30.4%  45.2%   3/5  172.0   85.0      L  \n",
       " 1  2:00  49.0%  32.0%   5.3%  31.4%  33.3%   2/3  155.0   80.0      L  \n",
       " 2  1:27  55.7%  36.7%  18.3%  31.0%  50.0%   3/5  115.0   55.0      W  \n",
       " 3  1:14  59.3%  44.1%   6.8%  42.5%  47.4%   3/5  108.0   49.0      W  \n",
       " 4  3:07  50.2%  39.3%   7.4%  30.0%  57.8%  5/14  241.0  106.0      L  \n",
       " \n",
       " [5 rows x 25 columns])"
      ]
     },
     "execution_count": 1,
     "metadata": {},
     "output_type": "execute_result"
    }
   ],
   "source": [
    "import os\n",
    "import pandas as pd\n",
    "\n",
    "# Ruta a la carpeta donde están los CSVs\n",
    "folder_path = \"Test_3/player_stats3\"\n",
    "\n",
    "# Diccionario para guardar los DataFrames\n",
    "player_data = {}\n",
    "\n",
    "# Cargar cada CSV de la carpeta y asociarlo con el nombre del jugador\n",
    "for filename in os.listdir(folder_path):\n",
    "    if filename.endswith(\".csv\"):\n",
    "        player_name = filename.replace(\"_matches_full_con_WorL.csv\", \"\")\n",
    "        file_path = os.path.join(folder_path, filename)\n",
    "        df = pd.read_csv(file_path)\n",
    "        player_data[player_name] = df\n",
    "\n",
    "# Mostrar los nombres de los jugadores cargados y un vistazo a las primeras filas de uno de ellos\n",
    "player_names = list(player_data.keys())\n",
    "sample_df = player_data[player_names[0]]\n",
    "player_names, sample_df.head()\n"
   ]
  }
 ],
 "metadata": {
  "kernelspec": {
   "display_name": "Python 3",
   "language": "python",
   "name": "python3"
  },
  "language_info": {
   "codemirror_mode": {
    "name": "ipython",
    "version": 3
   },
   "file_extension": ".py",
   "mimetype": "text/x-python",
   "name": "python",
   "nbconvert_exporter": "python",
   "pygments_lexer": "ipython3",
   "version": "3.11.9"
  }
 },
 "nbformat": 4,
 "nbformat_minor": 5
}
