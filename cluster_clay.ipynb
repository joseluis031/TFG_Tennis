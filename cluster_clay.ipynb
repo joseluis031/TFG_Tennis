{
 "cells": [
  {
   "cell_type": "code",
   "execution_count": null,
   "id": "34825881",
   "metadata": {},
   "outputs": [],
   "source": [
    "#copiar otro notebook\n",
    "import os\n",
    "import shutil\n",
    "import sys\n",
    "import glob\n",
    "import re\n",
    "\n",
    "def copy_notebook(src, dest):\n",
    "    \"\"\"\n",
    "    Copies a Jupyter notebook from src to dest, ensuring the destination directory exists.\n",
    "    \"\"\"\n",
    "    if not os.path.exists(dest):\n",
    "        os.makedirs(dest)\n",
    "    \n",
    "    shutil.copy(src, dest)\n",
    "    print(f\"Copied {src} to {dest}\")\n",
    "\n",
    "def main():\n",
    "    if len(sys.argv) != 3:\n",
    "        print(\"Usage: python copy_notebook.py <source_notebook> <destination_directory>\")\n",
    "        sys.exit(1)\n",
    "\n",
    "    source_notebook = sys.argv[1]\n",
    "    destination_directory = sys.argv[2]\n",
    "\n",
    "    if not os.path.isfile(source_notebook):\n",
    "        print(f\"Source notebook {source_notebook} does not exist.\")\n",
    "        sys.exit(1)\n",
    "\n",
    "    copy_notebook(source_notebook, destination_directory)"
   ]
  }
 ],
 "metadata": {
  "language_info": {
   "name": "python"
  }
 },
 "nbformat": 4,
 "nbformat_minor": 5
}
