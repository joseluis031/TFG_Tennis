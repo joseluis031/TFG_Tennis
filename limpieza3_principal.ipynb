{
 "cells": [
  {
   "cell_type": "code",
   "execution_count": null,
   "id": "638f5635",
   "metadata": {},
   "outputs": [
    {
     "name": "stdout",
     "output_type": "stream",
     "text": [
      "Proceso completado. Archivos limpios guardados en: Test_3//player_stats3\n"
     ]
    }
   ],
   "source": [
    "import os\n",
    "import pandas as pd\n",
    "\n",
    "# Configura estas rutas:\n",
    "carpeta_entrada = 'Tests_limpio/player_stats_con_resultado'         # Carpeta con los CSVs originales\n",
    "carpeta_salida = 'Test_3/player_stats3'           # Carpeta donde guardar los nuevos CSVs\n",
    "columnas_a_eliminar = ['Aces', '1SP', 'vA','2SP','DFs']  # Cambia por los nombres reales\n",
    "\n",
    "# Crea la carpeta de salida si no existe\n",
    "os.makedirs(carpeta_salida, exist_ok=True)\n",
    "\n",
    "# Recorre todos los archivos .csv\n",
    "for archivo in os.listdir(carpeta_entrada):\n",
    "    if archivo.endswith('.csv'):\n",
    "        ruta_csv = os.path.join(carpeta_entrada, archivo)\n",
    "        df = pd.read_csv(ruta_csv)\n",
    "\n",
    "        # Elimina las columnas si existen en el DataFrame\n",
    "        df = df.drop(columns=[col for col in columnas_a_eliminar if col in df.columns])\n",
    "\n",
    "        # Guarda el nuevo archivo en la carpeta de salida\n",
    "        ruta_salida = os.path.join(carpeta_salida, archivo)\n",
    "        df.to_csv(ruta_salida, index=False)\n",
    "\n",
    "print(\"Proceso completado. Archivos limpios guardados en:\", carpeta_salida)\n"
   ]
  }
 ],
 "metadata": {
  "kernelspec": {
   "display_name": "Python 3",
   "language": "python",
   "name": "python3"
  },
  "language_info": {
   "codemirror_mode": {
    "name": "ipython",
    "version": 3
   },
   "file_extension": ".py",
   "mimetype": "text/x-python",
   "name": "python",
   "nbconvert_exporter": "python",
   "pygments_lexer": "ipython3",
   "version": "3.11.9"
  }
 },
 "nbformat": 4,
 "nbformat_minor": 5
}
