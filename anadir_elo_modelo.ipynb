{
 "cells": [
  {
   "cell_type": "markdown",
   "id": "7331af25",
   "metadata": {},
   "source": [
    "VAMOS A AÑADIR LAS VARIABLES DE ELO Y DE ELO EN SUPERFICIE PARA TENERLAS EN CUENTA A LA HORA DE HACER EL MODELO Y VER SI MEJORAMOS LA ACCURACY"
   ]
  },
  {
   "cell_type": "code",
   "execution_count": 1,
   "id": "584a3a53",
   "metadata": {},
   "outputs": [],
   "source": [
    "import pandas as pd\n"
   ]
  },
  {
   "cell_type": "code",
   "execution_count": 2,
   "id": "febb0dc2",
   "metadata": {},
   "outputs": [],
   "source": [
    "\n",
    "# Cargar los CSVs\n",
    "# stats_hard = pd.read_csv(\"Estadisticas_2024_limpio_2/stats_Hard.csv\")\n",
    "# stats_hard = pd.read_csv(\"stats_Hard_2024_transformado.csv\")\n",
    "elo_ratings = pd.read_csv(\"elo_ratings.csv\")\n",
    "# stats_hard = pd.read_csv(\"Estadisticas_2024_limpio_3/stats_Hard.csv\")\n",
    "# stats_clay = pd.read_csv(\"Estadisticas_2024_limpio_3/stats_Clay.csv\")\n",
    "stats_clay = pd.read_csv(\"top_10_atp.csv\")\n",
    "#"
   ]
  },
  {
   "cell_type": "code",
   "execution_count": 6,
   "id": "22a01422",
   "metadata": {},
   "outputs": [],
   "source": [
    "# Asegúrate de que las columnas de nombre de jugador tengan el mismo formato\n",
    "stats_clay['Jugador'] = stats_clay['Jugador'].str.strip()\n",
    "elo_ratings['Player'] = elo_ratings['Player'].str.strip()\n",
    "\n",
    "# Renombrar la columna 'Jugador' a 'Player' temporalmente para poder hacer el merge\n",
    "stats_clay_renamed = stats_clay.rename(columns={'Jugador': 'Player'})\n",
    "\n",
    "# Unir ambos DataFrames por la columna 'Player'\n",
    "merged_df = stats_clay_renamed.merge(elo_ratings[['Player', 'Elo', 'cElo', 'hElo','Elo Rank','cElo Rank','hElo Rank']], on='Player', how='left')\n",
    "\n",
    "# (Opcional) Restaurar el nombre 'Jugador' si prefieres mantenerlo como estaba\n",
    "merged_df = merged_df.rename(columns={'Player': 'Jugador'})\n",
    "\n",
    "# Guardar el resultado\n",
    "merged_df.to_csv(\"top_10_atp.csv\", index=False)\n",
    "\n"
   ]
  }
 ],
 "metadata": {
  "kernelspec": {
   "display_name": "Python 3",
   "language": "python",
   "name": "python3"
  },
  "language_info": {
   "codemirror_mode": {
    "name": "ipython",
    "version": 3
   },
   "file_extension": ".py",
   "mimetype": "text/x-python",
   "name": "python",
   "nbconvert_exporter": "python",
   "pygments_lexer": "ipython3",
   "version": "3.11.9"
  }
 },
 "nbformat": 4,
 "nbformat_minor": 5
}
