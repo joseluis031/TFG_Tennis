{
 "cells": [
  {
   "cell_type": "code",
   "execution_count": 1,
   "metadata": {},
   "outputs": [
    {
     "name": "stdout",
     "output_type": "stream",
     "text": [
      "{'Ranking': '1', 'Jugador': 'Jannik\\xa0Sinner', 'Nacionalidad': 'ITA'}\n",
      "{'Ranking': '2', 'Jugador': 'Alexander\\xa0Zverev', 'Nacionalidad': 'GER'}\n",
      "{'Ranking': '3', 'Jugador': 'Carlos\\xa0Alcaraz', 'Nacionalidad': 'ESP'}\n",
      "{'Ranking': '4', 'Jugador': 'Taylor\\xa0Fritz', 'Nacionalidad': 'USA'}\n",
      "{'Ranking': '5', 'Jugador': 'Daniil\\xa0Medvedev', 'Nacionalidad': 'RUS'}\n",
      "{'Ranking': '6', 'Jugador': 'Casper\\xa0Ruud', 'Nacionalidad': 'NOR'}\n",
      "{'Ranking': '7', 'Jugador': 'Novak\\xa0Djokovic', 'Nacionalidad': 'SRB'}\n",
      "{'Ranking': '8', 'Jugador': 'Andrey\\xa0Rublev', 'Nacionalidad': 'RUS'}\n",
      "{'Ranking': '9', 'Jugador': 'Alex\\xa0De\\xa0Minaur', 'Nacionalidad': 'AUS'}\n",
      "{'Ranking': '10', 'Jugador': 'Grigor\\xa0Dimitrov', 'Nacionalidad': 'BUL'}\n",
      "{'Ranking': '11', 'Jugador': 'Stefanos\\xa0Tsitsipas', 'Nacionalidad': 'GRE'}\n",
      "{'Ranking': '12', 'Jugador': 'Tommy\\xa0Paul', 'Nacionalidad': 'USA'}\n",
      "{'Ranking': '13', 'Jugador': 'Holger\\xa0Rune', 'Nacionalidad': 'DEN'}\n",
      "{'Ranking': '14', 'Jugador': 'Ugo\\xa0Humbert', 'Nacionalidad': 'FRA'}\n",
      "{'Ranking': '15', 'Jugador': 'Jack\\xa0Draper', 'Nacionalidad': 'GBR'}\n",
      "{'Ranking': '16', 'Jugador': 'Hubert\\xa0Hurkacz', 'Nacionalidad': 'POL'}\n",
      "{'Ranking': '17', 'Jugador': 'Lorenzo\\xa0Musetti', 'Nacionalidad': 'ITA'}\n",
      "{'Ranking': '18', 'Jugador': 'Frances\\xa0Tiafoe', 'Nacionalidad': 'USA'}\n",
      "{'Ranking': '19', 'Jugador': 'Karen\\xa0Khachanov', 'Nacionalidad': 'RUS'}\n",
      "Datos guardados en 'top_20_atp.csv'\n"
     ]
    }
   ],
   "source": [
    "import requests\n",
    "from bs4 import BeautifulSoup\n",
    "\n",
    "# URL de la página a scrapear\n",
    "url = \"https://tennisabstract.com/reports/atpRankings.html\"\n",
    "\n",
    "# Realizar la solicitud HTTP a la página\n",
    "response = requests.get(url)\n",
    "soup = BeautifulSoup(response.text, \"html.parser\")\n",
    "\n",
    "# Buscar la tabla en la página\n",
    "tabla = soup.find(\"table\")  # Encuentra la primera tabla\n",
    "\n",
    "# Extraer las filas de la tabla (excepto el encabezado)\n",
    "filas = tabla.find_all(\"tr\")[1:21]  # Top 20 (saltando el encabezado)\n",
    "\n",
    "# Crear una lista para guardar los datos\n",
    "top_20 = []\n",
    "for fila in filas:\n",
    "    columnas = fila.find_all(\"td\")\n",
    "    if len(columnas) >= 3:  # Asegurarse de que haya suficientes columnas\n",
    "        ranking = columnas[0].text.strip()   # Columna 1: Ranking\n",
    "        nombre = columnas[1].text.strip()   # Columna 2: Nombre del jugador\n",
    "        nacionalidad = columnas[2].text.strip()  # Columna 3: Nacionalidad\n",
    "        \n",
    "        # Agregar a la lista\n",
    "        top_20.append({\n",
    "            \"Ranking\": ranking,\n",
    "            \"Jugador\": nombre,\n",
    "            \"Nacionalidad\": nacionalidad\n",
    "        })\n",
    "\n",
    "# Mostrar los resultados\n",
    "for jugador in top_20:\n",
    "    print(jugador)\n",
    "\n",
    "\n",
    "\n",
    "\n",
    "import csv\n",
    "\n",
    "# Guardar los datos en un archivo CSV\n",
    "with open(\"top_20_atp.csv\", \"w\", newline=\"\", encoding=\"utf-8\") as file:\n",
    "    writer = csv.DictWriter(file, fieldnames=[\"Ranking\", \"Jugador\", \"Nacionalidad\"])\n",
    "    writer.writeheader()\n",
    "    writer.writerows(top_20)\n",
    "\n",
    "print(\"Datos guardados en 'top_20_atp.csv'\")\n"
   ]
  }
 ],
 "metadata": {
  "kernelspec": {
   "display_name": "Python 3",
   "language": "python",
   "name": "python3"
  },
  "language_info": {
   "codemirror_mode": {
    "name": "ipython",
    "version": 3
   },
   "file_extension": ".py",
   "mimetype": "text/x-python",
   "name": "python",
   "nbconvert_exporter": "python",
   "pygments_lexer": "ipython3",
   "version": "3.10.0"
  }
 },
 "nbformat": 4,
 "nbformat_minor": 2
}
