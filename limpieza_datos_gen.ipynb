{
 "cells": [
  {
   "cell_type": "markdown",
   "id": "1abf7271",
   "metadata": {},
   "source": [
    "Limpieza para datos generales de 2025 2'24 y ultimas 52 semanas"
   ]
  },
  {
   "cell_type": "code",
   "execution_count": 1,
   "id": "fb3acf44",
   "metadata": {},
   "outputs": [
    {
     "name": "stdout",
     "output_type": "stream",
     "text": [
      "Archivo limpio guardado: Estadisticas_2024_limpio_2\\estadisticas_generales_2024.csv\n",
      "Archivo limpio guardado: Estadisticas_2024_limpio_2\\stats_best_of_3.csv\n",
      "Archivo limpio guardado: Estadisticas_2024_limpio_2\\stats_Clay.csv\n",
      "Archivo limpio guardado: Estadisticas_2024_limpio_2\\stats_cuartos.csv\n",
      "Archivo limpio guardado: Estadisticas_2024_limpio_2\\stats_final.csv\n",
      "Archivo limpio guardado: Estadisticas_2024_limpio_2\\stats_GrandSlams.csv\n",
      "Archivo limpio guardado: Estadisticas_2024_limpio_2\\stats_Grass.csv\n",
      "Archivo limpio guardado: Estadisticas_2024_limpio_2\\stats_Hard.csv\n",
      "Archivo limpio guardado: Estadisticas_2024_limpio_2\\stats_Masters.csv\n",
      "Archivo limpio guardado: Estadisticas_2024_limpio_2\\stats_r128.csv\n",
      "Archivo limpio guardado: Estadisticas_2024_limpio_2\\stats_r16.csv\n",
      "Archivo limpio guardado: Estadisticas_2024_limpio_2\\stats_r32.csv\n",
      "Archivo limpio guardado: Estadisticas_2024_limpio_2\\stats_r64.csv\n",
      "Archivo limpio guardado: Estadisticas_2024_limpio_2\\stats_semis.csv\n",
      "Archivo limpio guardado: Estadisticas_2024_limpio_2\\stats_vs_left.csv\n",
      "Archivo limpio guardado: Estadisticas_2024_limpio_2\\stats_vs_one_hand_bh.csv\n",
      "Archivo limpio guardado: Estadisticas_2024_limpio_2\\stats_vs_top_10.csv\n",
      "Archivo limpio guardado: Estadisticas_2024_limpio_2\\stats_vs_top_50.csv\n"
     ]
    }
   ],
   "source": [
    "import pandas as pd\n",
    "import os\n",
    "\n",
    "# Ruta de entrada y salida\n",
    "carpeta_entrada = 'Estadisticas_2024'\n",
    "carpeta_salida = 'Estadisticas_2024_limpio_2'\n",
    "\n",
    "# Crear carpeta de salida si no existe\n",
    "os.makedirs(carpeta_salida, exist_ok=True)\n",
    "\n",
    "# Lista de columnas que deseas eliminar (puedes modificarla)\n",
    "columnas_a_eliminar = ['Player_dup', 'M_dup', 'M W-L', 'Aces', 'DFs', 'Pts/SG', 'PtsL/SG', 'Pts/RG','PtsW/RG','MdOppRk','MnOppRk', 'BPConv', 'BPSaved', 'BPvs', 'DR', 'Points', 'TB W-L', 'TBs', 'TB/S', 'Sets', 'Set W-L', 'Gms', 'Game W-L', 'Time/Mt', 'Min/Set', 'Sec/Pt']\n",
    "# 68-34= 34 columnas\n",
    "# Procesar cada archivo CSV\n",
    "# Procesar cada archivo CSV\n",
    "for archivo in os.listdir(carpeta_entrada):\n",
    "    if archivo.endswith('.csv'):\n",
    "        ruta_entrada = os.path.join(carpeta_entrada, archivo)\n",
    "        ruta_salida = os.path.join(carpeta_salida, archivo)\n",
    "\n",
    "        # Leer CSV\n",
    "        df = pd.read_csv(ruta_entrada)\n",
    "\n",
    "        # Eliminar columnas duplicadas por nombre (quedarse con la primera)\n",
    "        df = df.loc[:, ~df.columns.duplicated()]\n",
    "\n",
    "        # Eliminar columnas con sufijos .1, .2, etc. (que vienen de duplicados)\n",
    "        df = df.loc[:, ~df.columns.str.contains(r'\\.\\d+$')]\n",
    "\n",
    "        # Limpieza de columnas y espacios\n",
    "        df.columns = df.columns.str.strip()\n",
    "        df = df.apply(lambda col: col.map(lambda x: x.strip() if isinstance(x, str) else x))\n",
    "\n",
    "        # Reemplazar símbolos\n",
    "        df = df.replace({'%': '', ',': '.'}, regex=True)\n",
    "\n",
    "        # Convertir columnas a numérico donde sea posible\n",
    "        for col in df.columns:\n",
    "            try:\n",
    "                df[col] = pd.to_numeric(df[col])\n",
    "            except Exception:\n",
    "                pass  # No se puede convertir, se deja como está\n",
    "        \n",
    "\n",
    "        # Eliminar columnas no deseadas si existen\n",
    "        df = df.drop(columns=[col for col in columnas_a_eliminar if col in df.columns])\n",
    "\n",
    "        # Limpiar la columna 'Player' quitando la nacionalidad entre corchetes\n",
    "        if 'Player' in df.columns:\n",
    "            df['Player'] = df['Player'].str.replace(r'\\s*\\[.*?\\]', '', regex=True).str.strip()\n",
    "\n",
    "\n",
    "        # Guardar el CSV limpio\n",
    "        df.to_csv(ruta_salida, index=False)\n",
    "        print(f'Archivo limpio guardado: {ruta_salida}')\n"
   ]
  }
 ],
 "metadata": {
  "kernelspec": {
   "display_name": "Python 3",
   "language": "python",
   "name": "python3"
  },
  "language_info": {
   "codemirror_mode": {
    "name": "ipython",
    "version": 3
   },
   "file_extension": ".py",
   "mimetype": "text/x-python",
   "name": "python",
   "nbconvert_exporter": "python",
   "pygments_lexer": "ipython3",
   "version": "3.11.9"
  }
 },
 "nbformat": 4,
 "nbformat_minor": 5
}
